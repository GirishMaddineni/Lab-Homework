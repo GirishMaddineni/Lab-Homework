{
  "nbformat": 4,
  "nbformat_minor": 0,
  "metadata": {
    "colab": {
      "name": "lab4-Homework",
      "provenance": []
    },
    "kernelspec": {
      "name": "python3",
      "display_name": "Python 3"
    }
  },
  "cells": [
    {
      "cell_type": "code",
      "metadata": {
        "id": "Bk5lCj21Nb--",
        "colab_type": "code",
        "outputId": "79813ce1-6d74-4582-eb99-c3753bf8e53d",
        "colab": {
          "base_uri": "https://localhost:8080/",
          "height": 67
        }
      },
      "source": [
        "#Task-1\n",
        "\n",
        "import string\n",
        "abc='This is girisj nnsdndjl !@#$%^&*()'\n",
        "\n",
        "xyz=abc.split()\n",
        "print(xyz)\n",
        "\n",
        "a1=string.whitespace\n",
        "a2= string.punctuation\n",
        "a3=a1+a2\n",
        "a4=abc.strip(a3)\n",
        "print(a4)\n",
        "a4.lower()\n",
        "\n"
      ],
      "execution_count": 1,
      "outputs": [
        {
          "output_type": "stream",
          "text": [
            "['This', 'is', 'girisj', 'nnsdndjl', '!@#$%^&*()']\n",
            "This is girisj nnsdndjl\n"
          ],
          "name": "stdout"
        },
        {
          "output_type": "execute_result",
          "data": {
            "text/plain": [
              "'this is girisj nnsdndjl'"
            ]
          },
          "metadata": {
            "tags": []
          },
          "execution_count": 1
        }
      ]
    },
    {
      "cell_type": "code",
      "metadata": {
        "id": "yKYZ1e21kPJu",
        "colab_type": "code",
        "colab": {}
      },
      "source": [
        "# i will continue from here........"
      ],
      "execution_count": 0,
      "outputs": []
    }
  ]
}