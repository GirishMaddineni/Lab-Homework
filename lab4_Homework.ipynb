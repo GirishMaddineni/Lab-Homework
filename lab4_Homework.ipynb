{
 "cells": [
  {
   "cell_type": "code",
   "execution_count": 1,
   "metadata": {
    "colab": {
     "base_uri": "https://localhost:8080/",
     "height": 67
    },
    "colab_type": "code",
    "id": "Bk5lCj21Nb--",
    "outputId": "79813ce1-6d74-4582-eb99-c3753bf8e53d"
   },
   "outputs": [
    {
     "name": "stdout",
     "output_type": "stream",
     "text": [
      "['This', 'is', 'girisj', 'nnsdndjl', '!@#$%^&*()']\n",
      "This is girisj nnsdndjl\n"
     ]
    },
    {
     "data": {
      "text/plain": [
       "'this is girisj nnsdndjl'"
      ]
     },
     "execution_count": 1,
     "metadata": {
      "tags": []
     },
     "output_type": "execute_result"
    }
   ],
   "source": [
    "#Task-1\n",
    "\n",
    "import string\n",
    "abc='This is girisj nnsdndjl !@#$%^&*()'\n",
    "\n",
    "xyz=abc.split()\n",
    "print(xyz)\n",
    "\n",
    "a1=string.whitespace\n",
    "a2= string.punctuation\n",
    "a3=a1+a2\n",
    "a4=abc.strip(a3)\n",
    "print(a4)\n",
    "a4.lower()\n",
    "\n"
   ]
  },
  {
   "cell_type": "code",
   "execution_count": null,
   "metadata": {},
   "outputs": [],
   "source": [
    "import string\n",
    "\n",
    "def abc(file):\n",
    "    mgk = dict()\n",
    "    f = open(file)\n",
    "    for i in f:\n",
    "        abc(i, mgk)\n",
    "    return mgk\n",
    "\n",
    "def abc(i, mgk):\n",
    "    i = i.replace('-', ' ')\n",
    "    \n",
    "    for word in i.split():\n",
    "        word = word.strip(string.punctuation + string.whitespace)\n",
    "        word = word.lower()\n",
    "        mgk[word] = mgk.get(word, 0) + 1\n",
    "\n",
    "mgk = abc('girish.txt')"
   ]
  },
  {
   "cell_type": "code",
   "execution_count": null,
   "metadata": {},
   "outputs": [],
   "source": [
    "def most_common(mgk):\n",
    "    t = []\n",
    "        t.append((value, key))\n",
    "\n",
    "    t.sort(reverse=True)\n",
    "    return t"
   ]
  }
 ],
 "metadata": {
  "colab": {
   "name": "lab4-Homework",
   "provenance": []
  },
  "kernelspec": {
   "display_name": "Python 3",
   "language": "python",
   "name": "python3"
  },
  "language_info": {
   "codemirror_mode": {
    "name": "ipython",
    "version": 3
   },
   "file_extension": ".py",
   "mimetype": "text/x-python",
   "name": "python",
   "nbconvert_exporter": "python",
   "pygments_lexer": "ipython3",
   "version": "3.7.6"
  }
 },
 "nbformat": 4,
 "nbformat_minor": 1
}
